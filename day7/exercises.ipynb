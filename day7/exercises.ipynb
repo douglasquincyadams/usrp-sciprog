{
 "metadata": {
  "name": "",
  "signature": "sha256:cd5d0c736350cee0ba51c53f20af42dc92787943775a1cbfe3775c416d8751fe"
 },
 "nbformat": 3,
 "nbformat_minor": 0,
 "worksheets": [
  {
   "cells": [
    {
     "cell_type": "heading",
     "level": 1,
     "metadata": {},
     "source": [
      "Exercises"
     ]
    },
    {
     "cell_type": "heading",
     "level": 2,
     "metadata": {},
     "source": [
      "1. Unweighted Moments"
     ]
    },
    {
     "cell_type": "markdown",
     "metadata": {},
     "source": [
      "Load the example image, and create a pair of 2-d (`x`, `y`) arrays (with the same shape as the image) that hold the coordinate values for every point in the data image.  The [numpy.meshgrid](http://docs.scipy.org/doc/numpy/reference/generated/numpy.meshgrid.html) function will do almost all the work for you; you just need to figure out how to call it (after loading the image, of course)."
     ]
    },
    {
     "cell_type": "code",
     "collapsed": false,
     "input": [],
     "language": "python",
     "metadata": {},
     "outputs": [],
     "prompt_number": 0
    },
    {
     "cell_type": "markdown",
     "metadata": {},
     "source": [
      "Write a function that computes the unweighted zeroth, first, and second moments of a source, given a data image, a mask image that indicates which pixels \"belong\" to the object, and coordinate arrays of the type you just created.\n",
      "\n",
      "A few hints:\n",
      " - Remember that you can multiply NumPy arrays together without explicitly looping over them, returning a new NumPy array.\n",
      " - If your function returns multiple values, just separate them with commas in the return statement: \"`return a, b, c`\".  Or, you can group them if you like: \"`return a, (b, c)`\"."
     ]
    },
    {
     "cell_type": "code",
     "collapsed": false,
     "input": [],
     "language": "python",
     "metadata": {},
     "outputs": []
    },
    {
     "cell_type": "markdown",
     "metadata": {},
     "source": [
      "Call this function on all of the sources in the example image, and print the results."
     ]
    },
    {
     "cell_type": "code",
     "collapsed": false,
     "input": [],
     "language": "python",
     "metadata": {},
     "outputs": []
    },
    {
     "cell_type": "heading",
     "level": 2,
     "metadata": {},
     "source": [
      "2. Gaussian Weight Functions"
     ]
    },
    {
     "cell_type": "markdown",
     "metadata": {},
     "source": [
      "Write a function that takes `x` and `y` arrays and first and second moments, and returns an image of an elliptical Gaussian function evaluated at those positions.  Here's the formula for a Gaussian, given those moments:\n",
      "\n",
      "$$w(x) = e^{-\\frac{1}{2}z^T C^{-1} z}$$\n",
      "\n",
      "$$ z = \\left[\\begin{array}{ c }\n",
      "     x - m_x \\\\\n",
      "     y - m_y\n",
      "   \\end{array}\\right]$$\n",
      "\n",
      "$$ C = \\left[\\begin{array}{ c c }\n",
      "     m_{xx} & m_{xy} \\\\\n",
      "     m_{xy} & m_{yy}\n",
      "   \\end{array}\\right]$$\n",
      "\n",
      "Obviously, you'll need to do a little matrix algebra to code this up - you can either do that directly in Python with [numpy.matrix](http://docs.scipy.org/doc/numpy/reference/generated/numpy.matrix.html), or do some algebra yourself.\n",
      "\n",
      "You'll note that I haven't included the standard Gaussian normalization factor - instead, normalize the result to make sure it sums to one before you return it."
     ]
    },
    {
     "cell_type": "code",
     "collapsed": false,
     "input": [],
     "language": "python",
     "metadata": {},
     "outputs": []
    },
    {
     "cell_type": "heading",
     "level": 2,
     "metadata": {},
     "source": [
      "3. Weighted Moments"
     ]
    },
    {
     "cell_type": "markdown",
     "metadata": {},
     "source": [
      "Modify your moments function so it takes a weight image instead of a mask image.  Make sure it still works if the weight image is just a mask image (even if it's less efficient) - a mask image is, after all, just a special case of a weight image."
     ]
    },
    {
     "cell_type": "code",
     "collapsed": false,
     "input": [],
     "language": "python",
     "metadata": {},
     "outputs": []
    },
    {
     "cell_type": "markdown",
     "metadata": {},
     "source": [
      "Run this function the same way you ran Exercise 1 on the largest source in the image, using the mask image as the weight image."
     ]
    },
    {
     "cell_type": "code",
     "collapsed": false,
     "input": [],
     "language": "python",
     "metadata": {},
     "outputs": []
    },
    {
     "cell_type": "markdown",
     "metadata": {},
     "source": [
      "Use the moments you just computed and the function from Exercise 2 to create a Gaussian weight image."
     ]
    },
    {
     "cell_type": "code",
     "collapsed": false,
     "input": [],
     "language": "python",
     "metadata": {},
     "outputs": []
    },
    {
     "cell_type": "markdown",
     "metadata": {},
     "source": [
      "Run this function on the example data image again, but this time use the Gaussian image as the weights."
     ]
    },
    {
     "cell_type": "code",
     "collapsed": false,
     "input": [],
     "language": "python",
     "metadata": {},
     "outputs": []
    },
    {
     "cell_type": "heading",
     "level": 2,
     "metadata": {},
     "source": [
      "4. Biased Measurements"
     ]
    },
    {
     "cell_type": "markdown",
     "metadata": {},
     "source": [
      "Run the weighted moments function using the Gaussian image as *both* the data image and the weight image - let's see if you get back the same moments you used to create the Gaussian image.\n",
      "\n",
      "Surprise!  You don't.  Repeat this a few times, using different moments to create the original Gaussian image.  Can you identify a relationship between the moments you get out, and the moments you put in?  (Hint: it'll involve a nice, round integer number you might have to round off to).\n",
      "\n",
      "Adjust your weighted moments function to include the calibration factor you've found.\n",
      "\n",
      "If you're curious, you can work out this correction algebraically if you replace the sums with integrals, and plug the Gaussian in as both the image and the weight function."
     ]
    },
    {
     "cell_type": "code",
     "collapsed": false,
     "input": [],
     "language": "python",
     "metadata": {},
     "outputs": []
    }
   ],
   "metadata": {}
  }
 ]
}